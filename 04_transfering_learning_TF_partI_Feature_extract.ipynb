{
  "nbformat": 4,
  "nbformat_minor": 0,
  "metadata": {
    "colab": {
      "provenance": [],
      "authorship_tag": "ABX9TyNO9G1XQFgGTnnusYpD40gO",
      "include_colab_link": true
    },
    "kernelspec": {
      "name": "python3",
      "display_name": "Python 3"
    },
    "language_info": {
      "name": "python"
    },
    "accelerator": "GPU"
  },
  "cells": [
    {
      "cell_type": "markdown",
      "metadata": {
        "id": "view-in-github",
        "colab_type": "text"
      },
      "source": [
        "<a href=\"https://colab.research.google.com/github/mafaldasalomao/Transfering_learning_TF-ExtractFeatures/blob/main/04_transfering_learning_TF_partI_Feature_extract.ipynb\" target=\"_parent\"><img src=\"https://colab.research.google.com/assets/colab-badge.svg\" alt=\"Open In Colab\"/></a>"
      ]
    },
    {
      "cell_type": "code",
      "execution_count": 2,
      "metadata": {
        "id": "qh8eoDbDyhLG",
        "colab": {
          "base_uri": "https://localhost:8080/"
        },
        "outputId": "c4659c1e-20b0-4906-e8d9-4481142fea05"
      },
      "outputs": [
        {
          "output_type": "stream",
          "name": "stdout",
          "text": [
            "--2022-10-07 19:11:40--  https://storage.googleapis.com/ztm_tf_course/food_vision/10_food_classes_10_percent.zip\n",
            "Resolving storage.googleapis.com (storage.googleapis.com)... 142.251.2.128, 142.250.141.128, 2607:f8b0:4023:c0d::80, ...\n",
            "Connecting to storage.googleapis.com (storage.googleapis.com)|142.251.2.128|:443... connected.\n",
            "HTTP request sent, awaiting response... 200 OK\n",
            "Length: 168546183 (161M) [application/zip]\n",
            "Saving to: ‘10_food_classes_10_percent.zip.1’\n",
            "\n",
            "10_food_classes_10_ 100%[===================>] 160.74M   223MB/s    in 0.7s    \n",
            "\n",
            "2022-10-07 19:11:41 (223 MB/s) - ‘10_food_classes_10_percent.zip.1’ saved [168546183/168546183]\n",
            "\n"
          ]
        }
      ],
      "source": [
        "import zipfile\n",
        "#download  the data\n",
        "# Download data\n",
        "!wget https://storage.googleapis.com/ztm_tf_course/food_vision/10_food_classes_10_percent.zip\n",
        "\n",
        "#unzip the downloaded data\n",
        "zip_ref = zipfile.ZipFile(\"10_food_classes_10_percent.zip\")\n",
        "zip_ref.extractall()\n",
        "zip_ref.close()\n"
      ]
    },
    {
      "cell_type": "code",
      "source": [
        "#how many images in each flder?\n",
        "import os\n",
        "\n",
        "for dirpath, dirnames, filenames in os.walk(\"10_food_classes_10_percent\"):\n",
        "  print(f\"There are {len(dirnames)} directories in {len(filenames)} in the {dirpath}.\")"
      ],
      "metadata": {
        "colab": {
          "base_uri": "https://localhost:8080/"
        },
        "id": "DDhIeS4H3Reg",
        "outputId": "daa36c83-21e2-4223-e6de-556415ab60a0"
      },
      "execution_count": 3,
      "outputs": [
        {
          "output_type": "stream",
          "name": "stdout",
          "text": [
            "There are 2 directories in 0 in the 10_food_classes_10_percent.\n",
            "There are 10 directories in 0 in the 10_food_classes_10_percent/train.\n",
            "There are 0 directories in 75 in the 10_food_classes_10_percent/train/ice_cream.\n",
            "There are 0 directories in 75 in the 10_food_classes_10_percent/train/steak.\n",
            "There are 0 directories in 75 in the 10_food_classes_10_percent/train/hamburger.\n",
            "There are 0 directories in 75 in the 10_food_classes_10_percent/train/pizza.\n",
            "There are 0 directories in 75 in the 10_food_classes_10_percent/train/fried_rice.\n",
            "There are 0 directories in 75 in the 10_food_classes_10_percent/train/sushi.\n",
            "There are 0 directories in 75 in the 10_food_classes_10_percent/train/chicken_curry.\n",
            "There are 0 directories in 75 in the 10_food_classes_10_percent/train/grilled_salmon.\n",
            "There are 0 directories in 75 in the 10_food_classes_10_percent/train/chicken_wings.\n",
            "There are 0 directories in 75 in the 10_food_classes_10_percent/train/ramen.\n",
            "There are 10 directories in 0 in the 10_food_classes_10_percent/test.\n",
            "There are 0 directories in 250 in the 10_food_classes_10_percent/test/ice_cream.\n",
            "There are 0 directories in 250 in the 10_food_classes_10_percent/test/steak.\n",
            "There are 0 directories in 250 in the 10_food_classes_10_percent/test/hamburger.\n",
            "There are 0 directories in 250 in the 10_food_classes_10_percent/test/pizza.\n",
            "There are 0 directories in 250 in the 10_food_classes_10_percent/test/fried_rice.\n",
            "There are 0 directories in 250 in the 10_food_classes_10_percent/test/sushi.\n",
            "There are 0 directories in 250 in the 10_food_classes_10_percent/test/chicken_curry.\n",
            "There are 0 directories in 250 in the 10_food_classes_10_percent/test/grilled_salmon.\n",
            "There are 0 directories in 250 in the 10_food_classes_10_percent/test/chicken_wings.\n",
            "There are 0 directories in 250 in the 10_food_classes_10_percent/test/ramen.\n"
          ]
        }
      ]
    },
    {
      "cell_type": "code",
      "source": [
        "from tensorflow.keras.preprocessing.image import ImageDataGenerator\n",
        "\n",
        "IMAGE_SHAPE = (224, 224)\n",
        "BATCH_SIZE = 32\n",
        "\n",
        "train_dir = \"10_food_classes_10_percent/train/\"\n",
        "test_dir = \"10_food_classes_10_percent/test/\"\n",
        "\n",
        "train_datagen = ImageDataGenerator(rescale=1/255.)\n",
        "test_datagen = ImageDataGenerator(rescale=1/255.)\n",
        "\n",
        "train_data = train_datagen.flow_from_directory(train_dir,\n",
        "                                               target_size=IMAGE_SHAPE,\n",
        "                                               batch_size=BATCH_SIZE,\n",
        "                                               class_mode=\"categorical\")\n",
        "test_data = test_datagen.flow_from_directory(test_dir,\n",
        "                                             target_size=IMAGE_SHAPE,\n",
        "                                             batch_size=BATCH_SIZE,\n",
        "                                             class_mode=\"categorical\")\n"
      ],
      "metadata": {
        "colab": {
          "base_uri": "https://localhost:8080/"
        },
        "id": "ZBAEkMSR4VTe",
        "outputId": "7d34f02a-5865-461a-c6da-f7c5265b2ec9"
      },
      "execution_count": 7,
      "outputs": [
        {
          "output_type": "stream",
          "name": "stdout",
          "text": [
            "Found 750 images belonging to 10 classes.\n",
            "Found 2500 images belonging to 10 classes.\n"
          ]
        }
      ]
    }
  ]
}