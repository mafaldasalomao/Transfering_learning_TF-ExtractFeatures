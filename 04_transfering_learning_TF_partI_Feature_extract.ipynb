{
  "nbformat": 4,
  "nbformat_minor": 0,
  "metadata": {
    "colab": {
      "provenance": [],
      "include_colab_link": true
    },
    "kernelspec": {
      "name": "python3",
      "display_name": "Python 3"
    },
    "language_info": {
      "name": "python"
    },
    "accelerator": "GPU"
  },
  "cells": [
    {
      "cell_type": "markdown",
      "metadata": {
        "id": "view-in-github",
        "colab_type": "text"
      },
      "source": [
        "<a href=\"https://colab.research.google.com/github/mafaldasalomao/Transfering_learning_TF-ExtractFeatures/blob/main/04_transfering_learning_TF_partI_Feature_extract.ipynb\" target=\"_parent\"><img src=\"https://colab.research.google.com/assets/colab-badge.svg\" alt=\"Open In Colab\"/></a>"
      ]
    },
    {
      "cell_type": "code",
      "execution_count": 1,
      "metadata": {
        "id": "qh8eoDbDyhLG",
        "colab": {
          "base_uri": "https://localhost:8080/"
        },
        "outputId": "c2dc6e8d-f3eb-4b13-df18-940fe6d64a33"
      },
      "outputs": [
        {
          "output_type": "stream",
          "name": "stdout",
          "text": [
            "--2022-10-07 19:27:37--  https://storage.googleapis.com/ztm_tf_course/food_vision/10_food_classes_10_percent.zip\n",
            "Resolving storage.googleapis.com (storage.googleapis.com)... 74.125.68.128, 142.250.4.128, 74.125.24.128, ...\n",
            "Connecting to storage.googleapis.com (storage.googleapis.com)|74.125.68.128|:443... connected.\n",
            "HTTP request sent, awaiting response... 200 OK\n",
            "Length: 168546183 (161M) [application/zip]\n",
            "Saving to: ‘10_food_classes_10_percent.zip’\n",
            "\n",
            "10_food_classes_10_ 100%[===================>] 160.74M   346MB/s    in 0.5s    \n",
            "\n",
            "2022-10-07 19:27:38 (346 MB/s) - ‘10_food_classes_10_percent.zip’ saved [168546183/168546183]\n",
            "\n"
          ]
        }
      ],
      "source": [
        "import zipfile\n",
        "#download  the data\n",
        "# Download data\n",
        "!wget https://storage.googleapis.com/ztm_tf_course/food_vision/10_food_classes_10_percent.zip\n",
        "\n",
        "#unzip the downloaded data\n",
        "zip_ref = zipfile.ZipFile(\"10_food_classes_10_percent.zip\")\n",
        "zip_ref.extractall()\n",
        "zip_ref.close()\n"
      ]
    },
    {
      "cell_type": "code",
      "source": [
        "#how many images in each flder?\n",
        "import os\n",
        "\n",
        "for dirpath, dirnames, filenames in os.walk(\"10_food_classes_10_percent\"):\n",
        "  print(f\"There are {len(dirnames)} directories in {len(filenames)} in the {dirpath}.\")"
      ],
      "metadata": {
        "colab": {
          "base_uri": "https://localhost:8080/"
        },
        "id": "DDhIeS4H3Reg",
        "outputId": "f2e863a8-6aae-4a8b-d6e3-6266d1e7a6ea"
      },
      "execution_count": 2,
      "outputs": [
        {
          "output_type": "stream",
          "name": "stdout",
          "text": [
            "There are 2 directories in 0 in the 10_food_classes_10_percent.\n",
            "There are 10 directories in 0 in the 10_food_classes_10_percent/test.\n",
            "There are 0 directories in 250 in the 10_food_classes_10_percent/test/chicken_wings.\n",
            "There are 0 directories in 250 in the 10_food_classes_10_percent/test/steak.\n",
            "There are 0 directories in 250 in the 10_food_classes_10_percent/test/hamburger.\n",
            "There are 0 directories in 250 in the 10_food_classes_10_percent/test/fried_rice.\n",
            "There are 0 directories in 250 in the 10_food_classes_10_percent/test/ice_cream.\n",
            "There are 0 directories in 250 in the 10_food_classes_10_percent/test/chicken_curry.\n",
            "There are 0 directories in 250 in the 10_food_classes_10_percent/test/ramen.\n",
            "There are 0 directories in 250 in the 10_food_classes_10_percent/test/sushi.\n",
            "There are 0 directories in 250 in the 10_food_classes_10_percent/test/grilled_salmon.\n",
            "There are 0 directories in 250 in the 10_food_classes_10_percent/test/pizza.\n",
            "There are 10 directories in 0 in the 10_food_classes_10_percent/train.\n",
            "There are 0 directories in 75 in the 10_food_classes_10_percent/train/chicken_wings.\n",
            "There are 0 directories in 75 in the 10_food_classes_10_percent/train/steak.\n",
            "There are 0 directories in 75 in the 10_food_classes_10_percent/train/hamburger.\n",
            "There are 0 directories in 75 in the 10_food_classes_10_percent/train/fried_rice.\n",
            "There are 0 directories in 75 in the 10_food_classes_10_percent/train/ice_cream.\n",
            "There are 0 directories in 75 in the 10_food_classes_10_percent/train/chicken_curry.\n",
            "There are 0 directories in 75 in the 10_food_classes_10_percent/train/ramen.\n",
            "There are 0 directories in 75 in the 10_food_classes_10_percent/train/sushi.\n",
            "There are 0 directories in 75 in the 10_food_classes_10_percent/train/grilled_salmon.\n",
            "There are 0 directories in 75 in the 10_food_classes_10_percent/train/pizza.\n"
          ]
        }
      ]
    },
    {
      "cell_type": "code",
      "source": [
        "from tensorflow.keras.preprocessing.image import ImageDataGenerator\n",
        "\n",
        "IMAGE_SHAPE = (224, 224)\n",
        "BATCH_SIZE = 32\n",
        "\n",
        "train_dir = \"10_food_classes_10_percent/train/\"\n",
        "test_dir = \"10_food_classes_10_percent/test/\"\n",
        "\n",
        "train_datagen = ImageDataGenerator(rescale=1/255.)\n",
        "test_datagen = ImageDataGenerator(rescale=1/255.)\n",
        "\n",
        "train_data = train_datagen.flow_from_directory(train_dir,\n",
        "                                               target_size=IMAGE_SHAPE,\n",
        "                                               batch_size=BATCH_SIZE,\n",
        "                                               class_mode=\"categorical\")\n",
        "test_data = test_datagen.flow_from_directory(test_dir,\n",
        "                                             target_size=IMAGE_SHAPE,\n",
        "                                             batch_size=BATCH_SIZE,\n",
        "                                             class_mode=\"categorical\")\n"
      ],
      "metadata": {
        "colab": {
          "base_uri": "https://localhost:8080/"
        },
        "id": "ZBAEkMSR4VTe",
        "outputId": "b97734a7-12a0-4618-e11f-88b842b85575"
      },
      "execution_count": 3,
      "outputs": [
        {
          "output_type": "stream",
          "name": "stdout",
          "text": [
            "Found 750 images belonging to 10 classes.\n",
            "Found 2500 images belonging to 10 classes.\n"
          ]
        }
      ]
    },
    {
      "cell_type": "code",
      "source": [
        "import datetime\n",
        "\n",
        "def create_tensorboard_callback(dir_name, experiment_name):\n",
        "  log_dir = dir_name + \"/\" + experiment_name + \"/\" + datetime.datetime.now().strftime(\"%Y%m%d-%H%M%S\")\n",
        "  tensorboard_call = tf.keras.callbacks.tensorboard(\n",
        "      log_dir=log_dir\n",
        "  )\n",
        "  print(f\"Saving TensorBoard log files to: {log_dir}\")\n",
        "  return tensorboard_callback"
      ],
      "metadata": {
        "id": "WGJo0bcO6_9M"
      },
      "execution_count": 4,
      "outputs": []
    }
  ]
}