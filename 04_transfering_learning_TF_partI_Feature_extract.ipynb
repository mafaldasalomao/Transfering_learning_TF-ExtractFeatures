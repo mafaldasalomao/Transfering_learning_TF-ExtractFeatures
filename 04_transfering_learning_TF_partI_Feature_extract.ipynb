{
  "nbformat": 4,
  "nbformat_minor": 0,
  "metadata": {
    "colab": {
      "provenance": [],
      "include_colab_link": true
    },
    "kernelspec": {
      "name": "python3",
      "display_name": "Python 3"
    },
    "language_info": {
      "name": "python"
    },
    "accelerator": "GPU"
  },
  "cells": [
    {
      "cell_type": "markdown",
      "metadata": {
        "id": "view-in-github",
        "colab_type": "text"
      },
      "source": [
        "<a href=\"https://colab.research.google.com/github/mafaldasalomao/Transfering_learning_TF-ExtractFeatures/blob/main/04_transfering_learning_TF_partI_Feature_extract.ipynb\" target=\"_parent\"><img src=\"https://colab.research.google.com/assets/colab-badge.svg\" alt=\"Open In Colab\"/></a>"
      ]
    },
    {
      "cell_type": "code",
      "execution_count": 4,
      "metadata": {
        "id": "qh8eoDbDyhLG",
        "colab": {
          "base_uri": "https://localhost:8080/"
        },
        "outputId": "340dd2f6-4c36-47c8-e8ca-1f09dbc6150b"
      },
      "outputs": [
        {
          "output_type": "stream",
          "name": "stdout",
          "text": [
            "--2022-10-07 20:53:22--  https://storage.googleapis.com/ztm_tf_course/food_vision/10_food_classes_10_percent.zip\n",
            "Resolving storage.googleapis.com (storage.googleapis.com)... 172.217.193.128, 172.217.204.128, 172.217.203.128, ...\n",
            "Connecting to storage.googleapis.com (storage.googleapis.com)|172.217.193.128|:443... connected.\n",
            "HTTP request sent, awaiting response... 200 OK\n",
            "Length: 168546183 (161M) [application/zip]\n",
            "Saving to: ‘10_food_classes_10_percent.zip’\n",
            "\n",
            "10_food_classes_10_ 100%[===================>] 160.74M   133MB/s    in 1.2s    \n",
            "\n",
            "2022-10-07 20:53:24 (133 MB/s) - ‘10_food_classes_10_percent.zip’ saved [168546183/168546183]\n",
            "\n"
          ]
        }
      ],
      "source": [
        "import zipfile\n",
        "#download  the data\n",
        "# Download data\n",
        "!wget https://storage.googleapis.com/ztm_tf_course/food_vision/10_food_classes_10_percent.zip\n",
        "\n",
        "#unzip the downloaded data\n",
        "zip_ref = zipfile.ZipFile(\"10_food_classes_10_percent.zip\")\n",
        "zip_ref.extractall()\n",
        "zip_ref.close()\n"
      ]
    },
    {
      "cell_type": "code",
      "source": [
        "#how many images in each flder?\n",
        "import os\n",
        "\n",
        "for dirpath, dirnames, filenames in os.walk(\"10_food_classes_10_percent\"):\n",
        "  print(f\"There are {len(dirnames)} directories in {len(filenames)} in the {dirpath}.\")"
      ],
      "metadata": {
        "colab": {
          "base_uri": "https://localhost:8080/"
        },
        "id": "DDhIeS4H3Reg",
        "outputId": "7c3f05d9-f0f9-43be-8ac0-e72744879e37"
      },
      "execution_count": 5,
      "outputs": [
        {
          "output_type": "stream",
          "name": "stdout",
          "text": [
            "There are 2 directories in 0 in the 10_food_classes_10_percent.\n",
            "There are 10 directories in 0 in the 10_food_classes_10_percent/test.\n",
            "There are 0 directories in 250 in the 10_food_classes_10_percent/test/chicken_wings.\n",
            "There are 0 directories in 250 in the 10_food_classes_10_percent/test/steak.\n",
            "There are 0 directories in 250 in the 10_food_classes_10_percent/test/hamburger.\n",
            "There are 0 directories in 250 in the 10_food_classes_10_percent/test/fried_rice.\n",
            "There are 0 directories in 250 in the 10_food_classes_10_percent/test/ice_cream.\n",
            "There are 0 directories in 250 in the 10_food_classes_10_percent/test/chicken_curry.\n",
            "There are 0 directories in 250 in the 10_food_classes_10_percent/test/ramen.\n",
            "There are 0 directories in 250 in the 10_food_classes_10_percent/test/sushi.\n",
            "There are 0 directories in 250 in the 10_food_classes_10_percent/test/grilled_salmon.\n",
            "There are 0 directories in 250 in the 10_food_classes_10_percent/test/pizza.\n",
            "There are 10 directories in 0 in the 10_food_classes_10_percent/train.\n",
            "There are 0 directories in 75 in the 10_food_classes_10_percent/train/chicken_wings.\n",
            "There are 0 directories in 75 in the 10_food_classes_10_percent/train/steak.\n",
            "There are 0 directories in 75 in the 10_food_classes_10_percent/train/hamburger.\n",
            "There are 0 directories in 75 in the 10_food_classes_10_percent/train/fried_rice.\n",
            "There are 0 directories in 75 in the 10_food_classes_10_percent/train/ice_cream.\n",
            "There are 0 directories in 75 in the 10_food_classes_10_percent/train/chicken_curry.\n",
            "There are 0 directories in 75 in the 10_food_classes_10_percent/train/ramen.\n",
            "There are 0 directories in 75 in the 10_food_classes_10_percent/train/sushi.\n",
            "There are 0 directories in 75 in the 10_food_classes_10_percent/train/grilled_salmon.\n",
            "There are 0 directories in 75 in the 10_food_classes_10_percent/train/pizza.\n"
          ]
        }
      ]
    },
    {
      "cell_type": "code",
      "source": [
        "from tensorflow.keras.preprocessing.image import ImageDataGenerator\n",
        "\n",
        "IMAGE_SHAPE = (224, 224)\n",
        "BATCH_SIZE = 32\n",
        "\n",
        "train_dir = \"10_food_classes_10_percent/train/\"\n",
        "test_dir = \"10_food_classes_10_percent/test/\"\n",
        "\n",
        "train_datagen = ImageDataGenerator(rescale=1/255.)\n",
        "test_datagen = ImageDataGenerator(rescale=1/255.)\n",
        "\n",
        "train_data = train_datagen.flow_from_directory(train_dir,\n",
        "                                               target_size=IMAGE_SHAPE,\n",
        "                                               batch_size=BATCH_SIZE,\n",
        "                                               class_mode=\"categorical\")\n",
        "test_data = test_datagen.flow_from_directory(test_dir,\n",
        "                                             target_size=IMAGE_SHAPE,\n",
        "                                             batch_size=BATCH_SIZE,\n",
        "                                             class_mode=\"categorical\")\n"
      ],
      "metadata": {
        "colab": {
          "base_uri": "https://localhost:8080/"
        },
        "id": "ZBAEkMSR4VTe",
        "outputId": "e9cba4a9-cf04-4a5e-8552-d18bfccffce9"
      },
      "execution_count": 6,
      "outputs": [
        {
          "output_type": "stream",
          "name": "stdout",
          "text": [
            "Found 750 images belonging to 10 classes.\n",
            "Found 2500 images belonging to 10 classes.\n"
          ]
        }
      ]
    },
    {
      "cell_type": "code",
      "source": [
        "import datetime\n",
        "\n",
        "def create_tensorboard_callback(dir_name, experiment_name):\n",
        "  log_dir = dir_name + \"/\" + experiment_name + \"/\" + datetime.datetime.now().strftime(\"%Y%m%d-%H%M%S\")\n",
        "  tensorboard_call = tf.keras.callbacks.TensorBoard(\n",
        "      log_dir=log_dir\n",
        "  )\n",
        "  print(f\"Saving TensorBoard log files to: {log_dir}\")\n",
        "  return tensorboard_call"
      ],
      "metadata": {
        "id": "WGJo0bcO6_9M"
      },
      "execution_count": 23,
      "outputs": []
    },
    {
      "cell_type": "code",
      "source": [
        "import tensorflow as tf\n",
        "import tensorflow_hub as hub\n",
        "from tensorflow.keras import layers"
      ],
      "metadata": {
        "id": "iGncOz8LMfxl"
      },
      "execution_count": 1,
      "outputs": []
    },
    {
      "cell_type": "code",
      "source": [
        "# Resnet 50 V2 feature vector\n",
        "resnet_url = \"https://tfhub.dev/google/imagenet/resnet_v2_50/feature_vector/4\"\n",
        "\n",
        "# Original: EfficientNetB0 feature vector (version 1)\n",
        "efficientnet_url = \"https://tfhub.dev/tensorflow/efficientnet/b0/feature-vector/1\"\n",
        "\n",
        "# # New: EfficientNetB0 feature vector (version 2)\n",
        "# efficientnet_url = \"https://tfhub.dev/google/imagenet/efficientnet_v2_imagenet1k_b0/feature_vector/2\""
      ],
      "metadata": {
        "id": "3zm3leqeM1iv"
      },
      "execution_count": 2,
      "outputs": []
    },
    {
      "cell_type": "code",
      "source": [
        "#Create model function to create model from url\n",
        "\n",
        "def create_model(model_url, num_classes=10):\n",
        "  \"\"\"Takes a TensorFlow Hub URL and creates a Keras Sequential model with it.\n",
        "  \n",
        "  Args:\n",
        "    model_url (str): A TensorFlow Hub feature extraction URL.\n",
        "    num_classes (int): Number of output neurons in output layer,\n",
        "      should be equal to number of target classes, default 10.\n",
        "\n",
        "  Returns:\n",
        "    An uncompiled Keras Sequential model with model_url as feature\n",
        "    extractor layer and Dense output layer with num_classes outputs.\n",
        "  \"\"\"\n",
        "  feature_extractor_layer = hub.KerasLayer(model_url,\n",
        "                                         trainable=False,\n",
        "                                         name=\"feature_extraction_layer\",\n",
        "                                         input_shape=IMAGE_SHAPE+(3,))\n",
        "  #Create our model\n",
        "  model = tf.keras.Sequential([\n",
        "      feature_extractor_layer,\n",
        "      layers.Dense(num_classes, activation=\"softmax\", name=\"output_layer\")\n",
        "  ])\n",
        "  return model"
      ],
      "metadata": {
        "id": "eaMrrm_sM8q8"
      },
      "execution_count": 14,
      "outputs": []
    },
    {
      "cell_type": "code",
      "source": [
        "train_data.num_classes"
      ],
      "metadata": {
        "id": "DBIPpsA8PiEq",
        "outputId": "dabdeca8-c5d7-45d9-9df5-de7ac5242fe0",
        "colab": {
          "base_uri": "https://localhost:8080/"
        }
      },
      "execution_count": 12,
      "outputs": [
        {
          "output_type": "execute_result",
          "data": {
            "text/plain": [
              "10"
            ]
          },
          "metadata": {},
          "execution_count": 12
        }
      ]
    },
    {
      "cell_type": "code",
      "source": [
        "#create resnet model\n",
        "resnet_model = create_model(resnet_url, num_classes=train_data.num_classes)"
      ],
      "metadata": {
        "id": "8IwKuJaEPCdG"
      },
      "execution_count": 15,
      "outputs": []
    },
    {
      "cell_type": "code",
      "source": [
        "resnet_model.summary()"
      ],
      "metadata": {
        "id": "hV7kAsJfP-s5",
        "outputId": "b3141a67-a83b-4a39-e66e-0b7a47fff6fd",
        "colab": {
          "base_uri": "https://localhost:8080/"
        }
      },
      "execution_count": 18,
      "outputs": [
        {
          "output_type": "stream",
          "name": "stdout",
          "text": [
            "Model: \"sequential\"\n",
            "_________________________________________________________________\n",
            " Layer (type)                Output Shape              Param #   \n",
            "=================================================================\n",
            " feature_extraction_layer (K  (None, 2048)             23564800  \n",
            " erasLayer)                                                      \n",
            "                                                                 \n",
            " output_layer (Dense)        (None, 10)                20490     \n",
            "                                                                 \n",
            "=================================================================\n",
            "Total params: 23,585,290\n",
            "Trainable params: 20,490\n",
            "Non-trainable params: 23,564,800\n",
            "_________________________________________________________________\n"
          ]
        }
      ]
    },
    {
      "cell_type": "code",
      "source": [
        "# Compile\n",
        "resnet_model.compile(loss='categorical_crossentropy',\n",
        "                     optimizer=tf.keras.optimizers.Adam(),\n",
        "                     metrics=['accuracy'])"
      ],
      "metadata": {
        "id": "m5O-sudSQRuI"
      },
      "execution_count": 17,
      "outputs": []
    },
    {
      "cell_type": "code",
      "source": [
        "# Fit the model\n",
        "resnet_history = resnet_model.fit(train_data,\n",
        "                                  epochs=5,\n",
        "                                  steps_per_epoch=len(train_data),\n",
        "                                  validation_data=test_data,\n",
        "                                  validation_steps=len(test_data),\n",
        "                                  # Add TensorBoard callback to model (callbacks parameter takes a list)\n",
        "                                  callbacks=[create_tensorboard_callback(dir_name=\"tensorflow_hub\", # save experiment logs here\n",
        "                                                                         experiment_name=\"resnet50V2\")]) # name of log files"
      ],
      "metadata": {
        "id": "wfcXYEadQYuv",
        "outputId": "e44fcbe2-7276-4e98-8253-3f563b9c847a",
        "colab": {
          "base_uri": "https://localhost:8080/"
        }
      },
      "execution_count": 24,
      "outputs": [
        {
          "output_type": "stream",
          "name": "stdout",
          "text": [
            "Saving TensorBoard log files to: tensorflow_hub/resnet50V2/20221007-210558\n",
            "Epoch 1/5\n",
            "24/24 [==============================] - 30s 753ms/step - loss: 2.0445 - accuracy: 0.3373 - val_loss: 1.2175 - val_accuracy: 0.6104\n",
            "Epoch 2/5\n",
            "24/24 [==============================] - 20s 874ms/step - loss: 0.9320 - accuracy: 0.7053 - val_loss: 0.8531 - val_accuracy: 0.7308\n",
            "Epoch 3/5\n",
            "24/24 [==============================] - 16s 703ms/step - loss: 0.6410 - accuracy: 0.8080 - val_loss: 0.7505 - val_accuracy: 0.7712\n",
            "Epoch 4/5\n",
            "24/24 [==============================] - 20s 857ms/step - loss: 0.4922 - accuracy: 0.8707 - val_loss: 0.7142 - val_accuracy: 0.7664\n",
            "Epoch 5/5\n",
            "24/24 [==============================] - 16s 682ms/step - loss: 0.4038 - accuracy: 0.9053 - val_loss: 0.6761 - val_accuracy: 0.7776\n"
          ]
        }
      ]
    },
    {
      "cell_type": "code",
      "source": [
        "# If you wanted to, you could really turn this into a helper function to load in with a helper.py script...\n",
        "import matplotlib.pyplot as plt\n",
        "\n",
        "# Plot the validation and training data separately\n",
        "def plot_loss_curves(history):\n",
        "  \"\"\"\n",
        "  Returns separate loss curves for training and validation metrics.\n",
        "  \"\"\" \n",
        "  loss = history.history['loss']\n",
        "  val_loss = history.history['val_loss']\n",
        "\n",
        "  accuracy = history.history['accuracy']\n",
        "  val_accuracy = history.history['val_accuracy']\n",
        "\n",
        "  epochs = range(len(history.history['loss']))\n",
        "\n",
        "  # Plot loss\n",
        "  plt.plot(epochs, loss, label='training_loss')\n",
        "  plt.plot(epochs, val_loss, label='val_loss')\n",
        "  plt.title('Loss')\n",
        "  plt.xlabel('Epochs')\n",
        "  plt.legend()\n",
        "\n",
        "  # Plot accuracy\n",
        "  plt.figure()\n",
        "  plt.plot(epochs, accuracy, label='training_accuracy')\n",
        "  plt.plot(epochs, val_accuracy, label='val_accuracy')\n",
        "  plt.title('Accuracy')\n",
        "  plt.xlabel('Epochs')\n",
        "  plt.legend();"
      ],
      "metadata": {
        "id": "Y-zIBE8ORXvc"
      },
      "execution_count": 25,
      "outputs": []
    },
    {
      "cell_type": "code",
      "source": [
        "plot_loss_curves(resnet_history)\n"
      ],
      "metadata": {
        "id": "5YbvrIDNRZux",
        "outputId": "61b4564c-7616-4fce-f215-66c5e8705920",
        "colab": {
          "base_uri": "https://localhost:8080/",
          "height": 573
        }
      },
      "execution_count": 26,
      "outputs": [
        {
          "output_type": "display_data",
          "data": {
            "text/plain": [
              "<Figure size 432x288 with 1 Axes>"
            ],
            "image/png": "[encoded data removed]"
          },
          "metadata": {
            "needs_background": "light"
          }
        },
        {
          "output_type": "display_data",
          "data": {
            "text/plain": [
              "<Figure size 432x288 with 1 Axes>"
            ],
            "image/png": "[encoded data removed]"
          },
          "metadata": {
            "needs_background": "light"
          }
        }
      ]
    },
    {
      "cell_type": "code",
      "source": [
        "# Create model\n",
        "efficientnet_model = create_model(model_url=efficientnet_url, # use EfficientNetB0 TensorFlow Hub URL\n",
        "                                  num_classes=train_data.num_classes)\n",
        "\n",
        "# Compile EfficientNet model\n",
        "efficientnet_model.compile(loss='categorical_crossentropy',\n",
        "                           optimizer=tf.keras.optimizers.Adam(),\n",
        "                           metrics=['accuracy'])\n",
        "\n",
        "# Fit EfficientNet model \n",
        "efficientnet_history = efficientnet_model.fit(train_data, # only use 10% of training data\n",
        "                                              epochs=5, # train for 5 epochs\n",
        "                                              steps_per_epoch=len(train_data),\n",
        "                                              validation_data=test_data,\n",
        "                                              validation_steps=len(test_data),\n",
        "                                              callbacks=[create_tensorboard_callback(dir_name=\"tensorflow_hub\", \n",
        "                                                                                     # Track logs under different experiment name\n",
        "                                                                                     experiment_name=\"efficientnetB0\")])"
      ],
      "metadata": {
        "id": "1OP0WWkgRdSO",
        "outputId": "89a6a918-e3a6-4b3b-839f-cabb434a12cf",
        "colab": {
          "base_uri": "https://localhost:8080/"
        }
      },
      "execution_count": 28,
      "outputs": [
        {
          "output_type": "stream",
          "name": "stdout",
          "text": [
            "Saving TensorBoard log files to: tensorflow_hub/efficientnetB0/20221007-210829\n",
            "Epoch 1/5\n",
            "24/24 [==============================] - 34s 1s/step - loss: 1.8456 - accuracy: 0.4480 - val_loss: 1.3004 - val_accuracy: 0.7240\n",
            "Epoch 2/5\n",
            "24/24 [==============================] - 16s 705ms/step - loss: 1.0551 - accuracy: 0.7653 - val_loss: 0.8716 - val_accuracy: 0.8156\n",
            "Epoch 3/5\n",
            "24/24 [==============================] - 15s 639ms/step - loss: 0.7516 - accuracy: 0.8400 - val_loss: 0.6941 - val_accuracy: 0.8456\n",
            "Epoch 4/5\n",
            "24/24 [==============================] - 16s 669ms/step - loss: 0.6048 - accuracy: 0.8760 - val_loss: 0.6114 - val_accuracy: 0.8568\n",
            "Epoch 5/5\n",
            "24/24 [==============================] - 17s 718ms/step - loss: 0.5073 - accuracy: 0.8933 - val_loss: 0.5602 - val_accuracy: 0.8636\n"
          ]
        }
      ]
    },
    {
      "cell_type": "code",
      "source": [
        "plot_loss_curves(efficientnet_history)"
      ],
      "metadata": {
        "id": "qSpT_KWXRf72",
        "outputId": "e87d80be-f087-4fa4-dbd0-2732558f12e6",
        "colab": {
          "base_uri": "https://localhost:8080/",
          "height": 573
        }
      },
      "execution_count": 29,
      "outputs": [
        {
          "output_type": "display_data",
          "data": {
            "text/plain": [
              "<Figure size 432x288 with 1 Axes>"
            ],
            "image/png": "[encoded data removed]"
          },
          "metadata": {
            "needs_background": "light"
          }
        },
        {
          "output_type": "display_data",
          "data": {
            "text/plain": [
              "<Figure size 432x288 with 1 Axes>"
            ],
            "image/png": "[encoded data removed]"
          },
          "metadata": {
            "needs_background": "light"
          }
        }
      ]
    },
    {
      "cell_type": "code",
      "source": [
        "# Upload TensorBoard dev records\n",
        "!tensorboard dev upload --logdir ./tensorflow_hub/ \\\n",
        "  --name \"EfficientNetB0 vs. ResNet50V2\" \\\n",
        "  --description \"Comparing two different TF Hub feature extraction models architectures using 10% of training images\" \\\n",
        "  --one_shot"
      ],
      "metadata": {
        "id": "DsCd0x8iRl1H",
        "outputId": "087b20f1-39b7-4019-e2ec-15b3945e2ba6",
        "colab": {
          "base_uri": "https://localhost:8080/"
        }
      },
      "execution_count": 30,
      "outputs": [
        {
          "output_type": "stream",
          "name": "stdout",
          "text": [
            "\n",
            "***** TensorBoard Uploader *****\n",
            "\n",
            "This will upload your TensorBoard logs to https://tensorboard.dev/ from\n",
            "the following directory:\n",
            "\n",
            "./tensorflow_hub/\n",
            "\n",
            "This TensorBoard will be visible to everyone. Do not upload sensitive\n",
            "data.\n",
            "\n",
            "Your use of this service is subject to Google's Terms of Service\n",
            "<https://policies.google.com/terms> and Privacy Policy\n",
            "<https://policies.google.com/privacy>, and TensorBoard.dev's Terms of Service\n",
            "<https://tensorboard.dev/policy/terms/>.\n",
            "\n",
            "This notice will not be shown again while you are logged into the uploader.\n",
            "To log out, run `tensorboard dev auth revoke`.\n",
            "\n",
            "Continue? (yes/NO) yes\n",
            "\n",
            "Please visit this URL to authorize this application: https://accounts.google.com/o/oauth2/auth?response_type=code&client_id=373649185512-8v619h5kft38l4456nm2dj4ubeqsrvh6.apps.googleusercontent.com&redirect_uri=urn%3Aietf%3Awg%3Aoauth%3A2.0%3Aoob&scope=openid+https%3A%2F%2Fwww.googleapis.com%2Fauth%2Fuserinfo.email&state=tHOQPO34Rjnrf2fiLAhuMvsjxZhx8U&prompt=consent&access_type=offline\n",
            "Enter the authorization code: 4/1ARtbsJrnz-9CjiiPRIcY_MjTAEiYF4Bgl1jc4SDtyn79_iO4zBHm95PBqmU\n",
            "\n",
            "\n",
            "New experiment created. View your TensorBoard at: https://tensorboard.dev/experiment/FNQWW9k7SYyadyuZGD46Yg/\n",
            "\n",
            "\u001b[1m[2022-10-07T21:26:38]\u001b[0m Started scanning logdir.\n",
            "\u001b[1m[2022-10-07T21:26:40]\u001b[0m Total uploaded: 60 scalars, 0 tensors, 2 binary objects (5.6 MB)\n",
            "\u001b[1m[2022-10-07T21:26:40]\u001b[0m Done scanning logdir.\n",
            "\n",
            "\n",
            "Done. View your TensorBoard at https://tensorboard.dev/experiment/FNQWW9k7SYyadyuZGD46Yg/\n"
          ]
        }
      ]
    },
    {
      "cell_type": "code",
      "source": [
        "# Check out experiments\n",
        "!tensorboard dev list"
      ],
      "metadata": {
        "id": "SzyW6yUDRntl",
        "outputId": "891beed2-6410-450a-b3b2-c326fa606f7d",
        "colab": {
          "base_uri": "https://localhost:8080/"
        }
      },
      "execution_count": 31,
      "outputs": [
        {
          "output_type": "stream",
          "name": "stdout",
          "text": [
            "https://tensorboard.dev/experiment/FNQWW9k7SYyadyuZGD46Yg/\n",
            "\tName                 EfficientNetB0 vs. ResNet50V2\n",
            "\tDescription          Comparing two different TF Hub feature extraction models architectures using 10% of training images\n",
            "\tId                   FNQWW9k7SYyadyuZGD46Yg\n",
            "\tCreated              2022-10-07 21:26:38 (56 seconds ago)\n",
            "\tUpdated              2022-10-07 21:26:40 (54 seconds ago)\n",
            "\tRuns                 4\n",
            "\tTags                 5\n",
            "\tScalars              60\n",
            "\tTensor bytes         0\n",
            "\tBinary object bytes  5918783\n",
            "Total: 1 experiment(s)\n"
          ]
        }
      ]
    },
    {
      "cell_type": "code",
      "source": [
        "# Delete an experiment\n",
        "!tensorboard dev delete --experiment_id FNQWW9k7SYyadyuZGD46Yg"
      ],
      "metadata": {
        "id": "4S85aTiJSHdl",
        "outputId": "6def44f3-4471-4794-a4bd-0adb0a6f4dde",
        "colab": {
          "base_uri": "https://localhost:8080/"
        }
      },
      "execution_count": 32,
      "outputs": [
        {
          "output_type": "stream",
          "name": "stdout",
          "text": [
            "Deleted experiment FNQWW9k7SYyadyuZGD46Yg.\n"
          ]
        }
      ]
    },
    {
      "cell_type": "code",
      "source": [
        "# Check to see if experiments still exist\n",
        "!tensorboard dev list"
      ],
      "metadata": {
        "id": "9HTdsDHgSJSG",
        "outputId": "1b0e6c35-caa7-4c9d-f2ed-33b010da76de",
        "colab": {
          "base_uri": "https://localhost:8080/"
        }
      },
      "execution_count": 33,
      "outputs": [
        {
          "output_type": "stream",
          "name": "stdout",
          "text": [
            "No experiments. Use `tensorboard dev upload` to get started.\n"
          ]
        }
      ]
    }
  ]
}